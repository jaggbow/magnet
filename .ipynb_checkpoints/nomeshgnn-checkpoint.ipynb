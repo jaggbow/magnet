{
 "cells": [
  {
   "cell_type": "code",
   "execution_count": 6,
   "metadata": {},
   "outputs": [],
   "source": [
    "import sys  \n",
    "sys.path.insert(0, '/home/mila/o/oussama.boussif/pde_oned/datamodule')\n",
    "sys.path.insert(0, '/home/mila/o/oussama.boussif/pde_oned/models')\n",
    "sys.path.insert(0, '/home/mila/o/oussama.boussif/pde_oned')\n",
    "import pickle\n",
    "from tqdm.notebook import tqdm\n",
    "import time\n",
    "import h5py\n",
    "import numpy as np\n",
    "\n",
    "#import moviepy.editor as mpe\n",
    "\n",
    "from models.factory import FACTORY\n",
    "import pytorch_lightning as pl\n",
    "from pytorch_lightning.utilities.seed import seed_everything\n",
    "import torch\n",
    "from torch import nn\n",
    "import torch.nn.functional as F\n",
    "from torch.utils.data import DataLoader\n",
    "from dataset import *\n",
    "\n",
    "import matplotlib.pyplot as plt\n",
    "import matplotlib.cm as cm\n",
    "\n",
    "device = torch.device('cuda')"
   ]
  },
  {
   "cell_type": "code",
   "execution_count": 75,
   "metadata": {},
   "outputs": [],
   "source": [
    "class HDF5DatasetImplicitGNN(Dataset):\n",
    "    \n",
    "    def __init__(self, \n",
    "                 path,\n",
    "                 nt,\n",
    "                 nx,\n",
    "                 sampling='uniform',\n",
    "                 mode='train', \n",
    "                 load_all=False,\n",
    "                 samples = 256):\n",
    "        \n",
    "        assert mode in ['train', 'valid', 'test'], \"mode must belong to one of these ['train', 'val', 'test']\"\n",
    "        \n",
    "        f = h5py.File(path, 'r')\n",
    "        self.mode = mode\n",
    "        self.data = f[self.mode]\n",
    "        self.dataset = f'pde_{nt}-{nx}'\n",
    "        self.samples = samples\n",
    "        self.sampling = sampling\n",
    "\n",
    "        if load_all:\n",
    "            data = {self.dataset: self.data[self.dataset][:]}\n",
    "            f.close()\n",
    "            self.data = data\n",
    "\n",
    "    def __len__(self):\n",
    "        return self.data[self.dataset].shape[0]\n",
    "\n",
    "    def __getitem__(self, idx):\n",
    "        \n",
    "        x = self.data['x'][idx]\n",
    "        t = self.data['t'][idx]\n",
    "        u_hr = torch.from_numpy(self.data[self.dataset][idx]).unsqueeze(1) # T, 1, L\n",
    "        T, _, L = u_hr.shape\n",
    "        u_lr = u_hr[:,:,::2] # T, 1, L//2\n",
    "        lr_coord = x[::2]\n",
    "\n",
    "        if self.mode in ['train']:\n",
    "            indices_left = np.setdiff1d(np.arange(0,L), np.arange(0,L)[::2])\n",
    "            sample_lst = torch.tensor(sorted(np.random.choice(indices_left, self.samples, replace=False)))\n",
    "            hr_coord = x[sample_lst]\n",
    "\n",
    "            hr_points = u_hr[:,:,sample_lst].permute(0,2,1)\n",
    "\n",
    "            return_tensors = {\n",
    "            't': t,\n",
    "            'sample_idx': sample_lst,\n",
    "            'lr_frames': u_lr,\n",
    "            'hr_frames': u_hr,\n",
    "            'hr_points': hr_points, \n",
    "            'coords_hr': hr_coord,\n",
    "            'coords_lr': lr_coord\n",
    "            }\n",
    "        else:\n",
    "            hr_coord = x\n",
    "\n",
    "            hr_points = u_hr.permute(0,2,1)\n",
    "\n",
    "            return_tensors = {\n",
    "            't': t,\n",
    "            'lr_frames': u_lr,\n",
    "            'hr_frames': u_hr,\n",
    "            'hr_points': hr_points, \n",
    "            'coords_hr': hr_coord,\n",
    "            'coords_lr': lr_coord \n",
    "        }\n",
    "\n",
    "        return return_tensors"
   ]
  },
  {
   "cell_type": "code",
   "execution_count": 12,
   "metadata": {},
   "outputs": [],
   "source": [
    "test_path = f'/home/mila/o/oussama.boussif/scratch/pdeone/data/CE_valid_E1_50.h5'\n",
    "data = h5py.File(test_path, 'r')\n",
    "portion = 0.2\n",
    "idx = np.setdiff1d(np.arange(0,50), np.random.choice(50, int(portion*50), replace=False))"
   ]
  },
  {
   "cell_type": "code",
   "execution_count": 25,
   "metadata": {},
   "outputs": [
    {
     "data": {
      "text/plain": [
       "array([ 0.        ,  0.32653061,  0.65306122,  0.97959184,  1.30612245,\n",
       "        1.63265306,  1.95918367,  2.28571429,  2.6122449 ,  2.93877551,\n",
       "        3.26530612,  3.59183673,  3.91836735,  4.24489796,  4.57142857,\n",
       "        4.89795918,  5.2244898 ,  5.55102041,  5.87755102,  6.20408163,\n",
       "        6.53061224,  6.85714286,  7.18367347,  7.51020408,  7.83673469,\n",
       "        8.16326531,  8.48979592,  8.81632653,  9.14285714,  9.46938776,\n",
       "        9.79591837, 10.12244898, 10.44897959, 10.7755102 , 11.10204082,\n",
       "       11.42857143, 11.75510204, 12.08163265, 12.40816327, 12.73469388,\n",
       "       13.06122449, 13.3877551 , 13.71428571, 14.04081633, 14.36734694,\n",
       "       14.69387755, 15.02040816, 15.34693878, 15.67346939, 16.        ])"
      ]
     },
     "execution_count": 25,
     "metadata": {},
     "output_type": "execute_result"
    }
   ],
   "source": [
    "data['valid']['x'][0]"
   ]
  },
  {
   "cell_type": "code",
   "execution_count": 26,
   "metadata": {},
   "outputs": [
    {
     "data": {
      "text/plain": [
       "0.32"
      ]
     },
     "execution_count": 26,
     "metadata": {},
     "output_type": "execute_result"
    }
   ],
   "source": [
    "data['valid']['dx'][0]"
   ]
  },
  {
   "cell_type": "code",
   "execution_count": 76,
   "metadata": {},
   "outputs": [],
   "source": [
    "dataset_ = HDF5DatasetImplicitGNN(\n",
    "                '/home/mila/o/oussama.boussif/scratch/pdeone/data/CE_train_E1.h5',\n",
    "                250,\n",
    "                50,\n",
    "                sampling='uniform',\n",
    "                mode='train', \n",
    "                samples = 12)"
   ]
  },
  {
   "cell_type": "code",
   "execution_count": 82,
   "metadata": {},
   "outputs": [
    {
     "data": {
      "text/plain": [
       "array([ 0.32653061,  0.97959184,  1.63265306,  2.28571429,  3.59183673,\n",
       "        6.20408163,  8.16326531,  9.46938776, 10.12244898, 10.7755102 ,\n",
       "       11.42857143, 14.69387755])"
      ]
     },
     "execution_count": 82,
     "metadata": {},
     "output_type": "execute_result"
    }
   ],
   "source": [
    "dataset_[0]['coords_hr']"
   ]
  },
  {
   "cell_type": "code",
   "execution_count": 81,
   "metadata": {},
   "outputs": [
    {
     "data": {
      "text/plain": [
       "array([ 0.        ,  0.65306122,  1.30612245,  1.95918367,  2.6122449 ,\n",
       "        3.26530612,  3.91836735,  4.57142857,  5.2244898 ,  5.87755102,\n",
       "        6.53061224,  7.18367347,  7.83673469,  8.48979592,  9.14285714,\n",
       "        9.79591837, 10.44897959, 11.10204082, 11.75510204, 12.40816327,\n",
       "       13.06122449, 13.71428571, 14.36734694, 15.02040816, 15.67346939])"
      ]
     },
     "execution_count": 81,
     "metadata": {},
     "output_type": "execute_result"
    }
   ],
   "source": [
    "dataset_[0]['coords_lr']"
   ]
  },
  {
   "cell_type": "code",
   "execution_count": 108,
   "metadata": {},
   "outputs": [],
   "source": [
    "nums = [-2,1,-3,4,-1,2,1,-5,4]\n",
    "answer = nums[0]"
   ]
  },
  {
   "cell_type": "code",
   "execution_count": 109,
   "metadata": {},
   "outputs": [
    {
     "name": "stdout",
     "output_type": "stream",
     "text": [
      "0 1\n",
      "0 3\n",
      "0 5\n",
      "0 6\n",
      "1 5\n",
      "1 6\n",
      "3 5\n",
      "3 6\n"
     ]
    }
   ],
   "source": [
    "for i in range(len(nums)):\n",
    "    s=nums[i]\n",
    "    for j in range(i+1, len(nums)):\n",
    "        s += nums[j]\n",
    "        if s>answer:\n",
    "            answer=s\n",
    "            print(i,j)"
   ]
  },
  {
   "cell_type": "code",
   "execution_count": null,
   "metadata": {},
   "outputs": [],
   "source": []
  }
 ],
 "metadata": {
  "kernelspec": {
   "display_name": "nomesh",
   "language": "python",
   "name": "nomesh"
  },
  "language_info": {
   "codemirror_mode": {
    "name": "ipython",
    "version": 3
   },
   "file_extension": ".py",
   "mimetype": "text/x-python",
   "name": "python",
   "nbconvert_exporter": "python",
   "pygments_lexer": "ipython3",
   "version": "3.8.12"
  }
 },
 "nbformat": 4,
 "nbformat_minor": 2
}
