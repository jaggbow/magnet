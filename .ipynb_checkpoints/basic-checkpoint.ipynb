{
 "cells": [
  {
   "cell_type": "code",
   "execution_count": 1,
   "metadata": {},
   "outputs": [],
   "source": [
    "import sys  \n",
    "sys.path.insert(0, '/home/mila/o/oussama.boussif/pde_oned/datamodule')\n",
    "sys.path.insert(0, '/home/mila/o/oussama.boussif/pde_oned/models')\n",
    "sys.path.insert(0, '/home/mila/o/oussama.boussif/pde_oned')\n",
    "import pickle\n",
    "from tqdm.notebook import tqdm\n",
    "import time\n",
    "import h5py\n",
    "\n",
    "#import moviepy.editor as mpe\n",
    "\n",
    "from models.factory import FACTORY\n",
    "import pytorch_lightning as pl\n",
    "from pytorch_lightning.utilities.seed import seed_everything\n",
    "import torch\n",
    "from torch import nn\n",
    "import torch.nn.functional as F\n",
    "from torch.utils.data import DataLoader\n",
    "from dataset import *\n",
    "\n",
    "import matplotlib.pyplot as plt\n",
    "import matplotlib.cm as cm\n",
    "\n",
    "device = torch.device('cuda')"
   ]
  },
  {
   "cell_type": "markdown",
   "metadata": {},
   "source": [
    "# NomeshGNN"
   ]
  },
  {
   "cell_type": "code",
   "execution_count": 108,
   "metadata": {},
   "outputs": [],
   "source": [
    "checkpoint_path = '/network/scratch/o/oussama.boussif/pdeone/logs/experiments/nomeshgnn/runs/2022-05-07/18-58-28/checkpoints/epoch_237.ckpt'"
   ]
  },
  {
   "cell_type": "code",
   "execution_count": 109,
   "metadata": {},
   "outputs": [
    {
     "name": "stderr",
     "output_type": "stream",
     "text": [
      "Global seed set to 42\n",
      "GPU available: True, used: True\n",
      "TPU available: False, using: 0 TPU cores\n",
      "IPU available: False, using: 0 IPUs\n"
     ]
    }
   ],
   "source": [
    "# Model specific args\n",
    "model = FACTORY[\"nomeshgnn\"]\n",
    "seed_everything(42)\n",
    "\n",
    "trainer = pl.Trainer(gpus=1)\n",
    "model = model.load_from_checkpoint(checkpoint_path).to(device)"
   ]
  },
  {
   "cell_type": "code",
   "execution_count": 110,
   "metadata": {},
   "outputs": [
    {
     "data": {
      "application/vnd.jupyter.widget-view+json": {
       "model_id": "",
       "version_major": 2,
       "version_minor": 0
      },
      "text/plain": [
       "  0%|          | 0/4 [00:00<?, ?it/s]"
      ]
     },
     "metadata": {},
     "output_type": "display_data"
    },
    {
     "data": {
      "application/vnd.jupyter.widget-view+json": {
       "model_id": "",
       "version_major": 2,
       "version_minor": 0
      },
      "text/plain": [
       "  0%|          | 0/4 [00:00<?, ?it/s]"
      ]
     },
     "metadata": {},
     "output_type": "display_data"
    },
    {
     "data": {
      "application/vnd.jupyter.widget-view+json": {
       "model_id": "",
       "version_major": 2,
       "version_minor": 0
      },
      "text/plain": [
       "  0%|          | 0/4 [00:00<?, ?it/s]"
      ]
     },
     "metadata": {},
     "output_type": "display_data"
    },
    {
     "data": {
      "application/vnd.jupyter.widget-view+json": {
       "model_id": "",
       "version_major": 2,
       "version_minor": 0
      },
      "text/plain": [
       "  0%|          | 0/4 [00:00<?, ?it/s]"
      ]
     },
     "metadata": {},
     "output_type": "display_data"
    }
   ],
   "source": [
    "nomeshgnn_results = []\n",
    "nomeshgnn_outputs = []\n",
    "for nx in [40,50,100,200]:\n",
    "    test_path = f'/home/mila/o/oussama.boussif/scratch/pdeone/data/CE_valid_E1_{nx}.h5'\n",
    "\n",
    "    test_dataset = HDF5DatasetImplicit( \n",
    "                    path=test_path,\n",
    "                    mode='valid',\n",
    "                    sampling='uniform',\n",
    "                    nt=250,\n",
    "                    nx=nx,\n",
    "                    samples=12)\n",
    "    dataloader = DataLoader(test_dataset, batch_size=32, num_workers=0, shuffle=False, pin_memory=True)\n",
    "    model.eval()\n",
    "    mae_loss = 0\n",
    "    with torch.no_grad():\n",
    "        for batch in tqdm(dataloader, leave=False):\n",
    "            t = batch['t'].float().to(device)\n",
    "            u = batch['lr_frames'].float().to(device) # B, T, 1, L\n",
    "            B, T, _, L = u.shape\n",
    "            u_values = batch['hr_points'].float().to(device)\n",
    "            coords = batch['coords'].float().to(device)\n",
    "            cells = batch['cells'].float().to(device)\n",
    "            B = t.shape[0]\n",
    "\n",
    "            u_values_future = u_values[:,model.time_slice:] # B, T_future, N, 1\n",
    "            T_future = u_values_future.shape[1]\n",
    "\n",
    "            u_values_hat = []\n",
    "            inp = u[:,:model.time_slice]\n",
    "            hr_last = u_values[:,model.time_slice-1]\n",
    "\n",
    "            for i in range(T_future//model.time_slice):\n",
    "                y_hat, _, _ = model.forward(inp, coords, cells, t[:,i*model.time_slice:(i+2)*model.time_slice], hr_last)\n",
    "\n",
    "                u_values_hat.append(y_hat)\n",
    "\n",
    "                inp = y_hat.permute(0,1,3,2)\n",
    "                inp = F.interpolate(inp.reshape(-1,inp.shape[-2], inp.shape[-1]), size=L, mode='linear', align_corners=False).reshape(B, -1, inp.shape[-2], L)\n",
    "                hr_last = y_hat[:,-1]\n",
    "\n",
    "            u_values_hat = torch.cat(u_values_hat, dim=1)\n",
    "            loss = model.criterion(u_values_hat, u_values_future)\n",
    "            mae_loss += model.mae_criterion(u_values_hat, u_values_future)*B/len(test_dataset)\n",
    "    nomeshgnn_results.append(mae_loss.item())\n",
    "    nomeshgnn_outputs.append(u_values_hat[0].squeeze().cpu())"
   ]
  },
  {
   "cell_type": "code",
   "execution_count": 111,
   "metadata": {},
   "outputs": [
    {
     "data": {
      "text/plain": [
       "[0.11929456144571304,\n",
       " 0.11012279987335205,\n",
       " 0.11072348803281784,\n",
       " 0.10984613001346588]"
      ]
     },
     "execution_count": 111,
     "metadata": {},
     "output_type": "execute_result"
    }
   ],
   "source": [
    "nomeshgnn_results"
   ]
  },
  {
   "cell_type": "code",
   "execution_count": 112,
   "metadata": {},
   "outputs": [],
   "source": [
    "nomeshgnn = np.stack([\n",
    "    [0.10794968903064728, 0.10203327983617783, 0.11423999816179276, 0.11779483407735825],\n",
    "    [0.11439730226993561, 0.10214518010616302, 0.11730248481035233, 0.121585413813591],\n",
    "    [0.11477003991603851, 0.10575169324874878, 0.10751982033252716, 0.10625246912240982],\n",
    "    [0.12142668664455414, 0.10452092438936234, 0.12232984602451324, 0.12681396305561066],\n",
    "    [0.11929456144571304, 0.11012279987335205, 0.11072348803281784, 0.10984613001346588]\n",
    "], axis=0)"
   ]
  },
  {
   "cell_type": "markdown",
   "metadata": {},
   "source": [
    "# NomeshBasic"
   ]
  },
  {
   "cell_type": "code",
   "execution_count": 83,
   "metadata": {},
   "outputs": [],
   "source": [
    "checkpoint_path = '/network/scratch/o/oussama.boussif/pdeone/logs/experiments/nomeshgnn_basic/runs/2022-05-17/12-54-31/checkpoints/epoch_189.ckpt'"
   ]
  },
  {
   "cell_type": "code",
   "execution_count": 84,
   "metadata": {},
   "outputs": [
    {
     "name": "stderr",
     "output_type": "stream",
     "text": [
      "Global seed set to 42\n",
      "GPU available: True, used: True\n",
      "TPU available: False, using: 0 TPU cores\n",
      "IPU available: False, using: 0 IPUs\n"
     ]
    }
   ],
   "source": [
    "# Model specific args\n",
    "model = FACTORY[\"nomeshgnn_basic\"]\n",
    "seed_everything(42)\n",
    "\n",
    "trainer = pl.Trainer(gpus=1)\n",
    "model = model.load_from_checkpoint(checkpoint_path).to(device)"
   ]
  },
  {
   "cell_type": "code",
   "execution_count": 85,
   "metadata": {},
   "outputs": [
    {
     "data": {
      "application/vnd.jupyter.widget-view+json": {
       "model_id": "",
       "version_major": 2,
       "version_minor": 0
      },
      "text/plain": [
       "  0%|          | 0/4 [00:00<?, ?it/s]"
      ]
     },
     "metadata": {},
     "output_type": "display_data"
    },
    {
     "data": {
      "application/vnd.jupyter.widget-view+json": {
       "model_id": "",
       "version_major": 2,
       "version_minor": 0
      },
      "text/plain": [
       "  0%|          | 0/4 [00:00<?, ?it/s]"
      ]
     },
     "metadata": {},
     "output_type": "display_data"
    },
    {
     "data": {
      "application/vnd.jupyter.widget-view+json": {
       "model_id": "",
       "version_major": 2,
       "version_minor": 0
      },
      "text/plain": [
       "  0%|          | 0/4 [00:00<?, ?it/s]"
      ]
     },
     "metadata": {},
     "output_type": "display_data"
    },
    {
     "data": {
      "application/vnd.jupyter.widget-view+json": {
       "model_id": "",
       "version_major": 2,
       "version_minor": 0
      },
      "text/plain": [
       "  0%|          | 0/4 [00:00<?, ?it/s]"
      ]
     },
     "metadata": {},
     "output_type": "display_data"
    }
   ],
   "source": [
    "nomeshbasic_results = []\n",
    "nomeshbasic_outputs = []\n",
    "for nx in [40,50,100,200]:\n",
    "    test_path = f'/home/mila/o/oussama.boussif/scratch/pdeone/data/CE_valid_E1_{nx}.h5'\n",
    "\n",
    "    test_dataset = HDF5DatasetImplicit( \n",
    "                    path=test_path,\n",
    "                    mode='valid',\n",
    "                    sampling='uniform',\n",
    "                    nt=250,\n",
    "                    nx=nx,\n",
    "                    samples=12)\n",
    "    dataloader = DataLoader(test_dataset, batch_size=32, num_workers=0, shuffle=False, pin_memory=True)\n",
    "    model.eval()\n",
    "    mae_loss = 0\n",
    "    with torch.no_grad():\n",
    "        for batch in tqdm(dataloader, leave=False):\n",
    "            t = batch['t'].float().to(device)\n",
    "            u = batch['lr_frames'].float().to(device) # B, T, 1, L\n",
    "            B, T, _, L = u.shape\n",
    "            u_values = batch['hr_points'].float().to(device)\n",
    "            coords = batch['coords'].float().to(device)\n",
    "            cells = batch['cells'].float().to(device)\n",
    "            B = t.shape[0]\n",
    "\n",
    "            u_values_future = u_values[:,model.time_slice:] # B, T_future, N, 1\n",
    "            T_future = u_values_future.shape[1]\n",
    "\n",
    "            u_values_hat = []\n",
    "            inp = u[:,:model.time_slice]\n",
    "            hr_last = u_values[:,model.time_slice-1]\n",
    "\n",
    "            for i in range(T_future//model.time_slice):\n",
    "                y_hat, _, _ = model.forward(inp, coords, cells, t[:,i*model.time_slice:(i+2)*model.time_slice], hr_last)\n",
    "\n",
    "                u_values_hat.append(y_hat)\n",
    "\n",
    "                inp = y_hat.permute(0,1,3,2)\n",
    "                inp = F.interpolate(inp.reshape(-1,inp.shape[-2], inp.shape[-1]), size=L, mode='linear', align_corners=False).reshape(B, -1, inp.shape[-2], L)\n",
    "                hr_last = y_hat[:,-1]\n",
    "\n",
    "            u_values_hat = torch.cat(u_values_hat, dim=1)\n",
    "            loss = model.criterion(u_values_hat, u_values_future)\n",
    "            mae_loss += model.mae_criterion(u_values_hat, u_values_future)*B/len(test_dataset)\n",
    "    nomeshbasic_results.append(mae_loss.item())\n",
    "    nomeshbasic_outputs.append(u_values_hat[0].squeeze().cpu())"
   ]
  },
  {
   "cell_type": "code",
   "execution_count": 86,
   "metadata": {
    "scrolled": true
   },
   "outputs": [
    {
     "data": {
      "text/plain": [
       "[0.12043583393096924,\n",
       " 0.11110149323940277,\n",
       " 0.12275415658950806,\n",
       " 0.13054798543453217]"
      ]
     },
     "execution_count": 86,
     "metadata": {},
     "output_type": "execute_result"
    }
   ],
   "source": [
    "nomeshbasic_results"
   ]
  },
  {
   "cell_type": "code",
   "execution_count": 87,
   "metadata": {},
   "outputs": [],
   "source": [
    "linear = np.stack([\n",
    "    [0.12534670531749725, 0.11532361805438995, 0.1261763721704483, 0.1302325427532196],\n",
    "    [0.1202327311038971, 0.10750730335712433, 0.11982830613851547, 0.12628421187400818],\n",
    "    [0.12289983779191971, 0.11374004185199738, 0.12432785332202911, 0.12981337308883667],\n",
    "    [0.12981265783309937, 0.11895345896482468, 0.1264210343360901, 0.12949098646640778],\n",
    "    [0.12043583393096924, 0.11110149323940277, 0.12275415658950806, 0.13054798543453217]\n",
    "], axis=0)"
   ]
  },
  {
   "cell_type": "code",
   "execution_count": 88,
   "metadata": {},
   "outputs": [],
   "source": [
    "knn = np.stack([\n",
    "    [0.12851737439632416, 0.11833377182483673,  0.14389687776565552, 0.16351953148841858],\n",
    "    [0.12965089082717896, 0.12249322235584259, 0.13039371371269226, 0.1553807407617569],\n",
    "    [0.13026173412799835, 0.11968277394771576, 0.13169020414352417, 0.14134089648723602],\n",
    "    [0.13358618319034576, 0.12395884096622467, 0.135129913687706, 0.15784528851509094],\n",
    "    [0.13871726393699646, 0.12488396465778351, 0.1420019268989563, 0.148664653301239]\n",
    "])"
   ]
  },
  {
   "cell_type": "code",
   "execution_count": 45,
   "metadata": {},
   "outputs": [],
   "source": [
    "cubic = np.stack([\n",
    "    [0.11449189484119415, 0.11194287985563278, 0.12042960524559021, 0.12038916349411011],\n",
    "    [0.0993436872959137, 0.09838387370109558, 0.10858766734600067, 0.11144961416721344],\n",
    "    [0.10548128932714462, 0.10385828465223312, 0.11376780271530151, 0.11176261305809021],\n",
    "    [0.10970959067344666, 0.1090250238776207, 0.118585504591465, 0.11939539760351181],\n",
    "    [0.11251761019229889, 0.11301679164171219, 0.12216372787952423, 0.12223552912473679]\n",
    "], axis=0)"
   ]
  },
  {
   "cell_type": "code",
   "execution_count": 113,
   "metadata": {},
   "outputs": [],
   "source": [
    "cubic_mean = cubic.mean(0)\n",
    "linear_mean = linear.mean(0)\n",
    "knn_mean = knn.mean(0)\n",
    "nomeshgnn_mean = nomeshgnn.mean(0)"
   ]
  },
  {
   "cell_type": "code",
   "execution_count": 120,
   "metadata": {},
   "outputs": [],
   "source": [
    "cubic_std = cubic.std(0)\n",
    "linear_std = linear.std(0)\n",
    "knn_std= knn.std(0)\n",
    "nomeshgnn_std = nomeshgnn.std(0)"
   ]
  },
  {
   "cell_type": "code",
   "execution_count": 122,
   "metadata": {},
   "outputs": [
    {
     "data": {
      "text/plain": [
       "array([0.00540879, 0.00545053, 0.00493406, 0.00453567])"
      ]
     },
     "execution_count": 122,
     "metadata": {},
     "output_type": "execute_result"
    }
   ],
   "source": [
    "cubic_std"
   ]
  },
  {
   "cell_type": "code",
   "execution_count": 131,
   "metadata": {},
   "outputs": [
    {
     "data": {
      "image/png": "[encoded data removed]",
      "text/plain": [
       "<Figure size 720x504 with 1 Axes>"
      ]
     },
     "metadata": {
      "needs_background": "light"
     },
     "output_type": "display_data"
    }
   ],
   "source": [
    "plt.figure(figsize=(10,7))\n",
    "plt.errorbar([40,50,100,200], cubic_mean, yerr=cubic_std, marker='o', label='Cubic')\n",
    "plt.errorbar([40,50,100,200], linear_mean, yerr=linear_std, marker='o', label='Linear')\n",
    "plt.errorbar([40,50,100,200], knn_mean, yerr=knn_std, marker='o', label='KNN')\n",
    "plt.errorbar([40,50,100,200], nomeshgnn_mean, yerr=nomeshgnn_std, marker='o', label='Ours')\n",
    "\n",
    "plt.legend()\n",
    "plt.xlabel('Test Resolution')\n",
    "plt.ylabel('MAE')\n",
    "plt.grid()\n",
    "plt.savefig('gnn_vs_int.svg')\n",
    "plt.show()"
   ]
  },
  {
   "cell_type": "code",
   "execution_count": null,
   "metadata": {},
   "outputs": [],
   "source": []
  }
 ],
 "metadata": {
  "kernelspec": {
   "display_name": "nomesh",
   "language": "python",
   "name": "nomesh"
  },
  "language_info": {
   "codemirror_mode": {
    "name": "ipython",
    "version": 3
   },
   "file_extension": ".py",
   "mimetype": "text/x-python",
   "name": "python",
   "nbconvert_exporter": "python",
   "pygments_lexer": "ipython3",
   "version": "3.8.12"
  }
 },
 "nbformat": 4,
 "nbformat_minor": 2
}
