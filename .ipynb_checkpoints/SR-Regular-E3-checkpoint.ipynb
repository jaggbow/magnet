{
 "cells": [
  {
   "cell_type": "code",
   "execution_count": 1,
   "metadata": {},
   "outputs": [],
   "source": [
    "import sys  \n",
    "sys.path.insert(0, '/home/mila/o/oussama.boussif/pde_oned/datamodule')\n",
    "sys.path.insert(0, '/home/mila/o/oussama.boussif/pde_oned/models')\n",
    "sys.path.insert(0, '/home/mila/o/oussama.boussif/pde_oned')\n",
    "import pickle\n",
    "from tqdm.notebook import tqdm\n",
    "import time\n",
    "import h5py\n",
    "\n",
    "#import moviepy.editor as mpe\n",
    "\n",
    "from models.factory import FACTORY\n",
    "import pytorch_lightning as pl\n",
    "from pytorch_lightning.utilities.seed import seed_everything\n",
    "import torch\n",
    "from torch import nn\n",
    "import torch.nn.functional as F\n",
    "from torch.utils.data import DataLoader\n",
    "from dataset import *\n",
    "\n",
    "import matplotlib.pyplot as plt\n",
    "import matplotlib.cm as cm\n",
    "\n",
    "device = torch.device('cuda')"
   ]
  },
  {
   "cell_type": "markdown",
   "metadata": {},
   "source": [
    "# MAgNet[CNN]"
   ]
  },
  {
   "cell_type": "code",
   "execution_count": 6,
   "metadata": {},
   "outputs": [
    {
     "name": "stderr",
     "output_type": "stream",
     "text": [
      "Global seed set to 42\n",
      "GPU available: True, used: True\n",
      "TPU available: False, using: 0 TPU cores\n",
      "IPU available: False, using: 0 IPUs\n"
     ]
    },
    {
     "data": {
      "application/vnd.jupyter.widget-view+json": {
       "model_id": "",
       "version_major": 2,
       "version_minor": 0
      },
      "text/plain": [
       "  0%|          | 0/4 [00:00<?, ?it/s]"
      ]
     },
     "metadata": {},
     "output_type": "display_data"
    },
    {
     "data": {
      "application/vnd.jupyter.widget-view+json": {
       "model_id": "",
       "version_major": 2,
       "version_minor": 0
      },
      "text/plain": [
       "  0%|          | 0/4 [00:00<?, ?it/s]"
      ]
     },
     "metadata": {},
     "output_type": "display_data"
    },
    {
     "data": {
      "application/vnd.jupyter.widget-view+json": {
       "model_id": "",
       "version_major": 2,
       "version_minor": 0
      },
      "text/plain": [
       "  0%|          | 0/4 [00:00<?, ?it/s]"
      ]
     },
     "metadata": {},
     "output_type": "display_data"
    },
    {
     "data": {
      "application/vnd.jupyter.widget-view+json": {
       "model_id": "",
       "version_major": 2,
       "version_minor": 0
      },
      "text/plain": [
       "  0%|          | 0/4 [00:00<?, ?it/s]"
      ]
     },
     "metadata": {},
     "output_type": "display_data"
    },
    {
     "name": "stderr",
     "output_type": "stream",
     "text": [
      "Global seed set to 42\n",
      "GPU available: True, used: True\n",
      "TPU available: False, using: 0 TPU cores\n",
      "IPU available: False, using: 0 IPUs\n"
     ]
    },
    {
     "data": {
      "application/vnd.jupyter.widget-view+json": {
       "model_id": "",
       "version_major": 2,
       "version_minor": 0
      },
      "text/plain": [
       "  0%|          | 0/4 [00:00<?, ?it/s]"
      ]
     },
     "metadata": {},
     "output_type": "display_data"
    },
    {
     "data": {
      "application/vnd.jupyter.widget-view+json": {
       "model_id": "",
       "version_major": 2,
       "version_minor": 0
      },
      "text/plain": [
       "  0%|          | 0/4 [00:00<?, ?it/s]"
      ]
     },
     "metadata": {},
     "output_type": "display_data"
    },
    {
     "data": {
      "application/vnd.jupyter.widget-view+json": {
       "model_id": "",
       "version_major": 2,
       "version_minor": 0
      },
      "text/plain": [
       "  0%|          | 0/4 [00:00<?, ?it/s]"
      ]
     },
     "metadata": {},
     "output_type": "display_data"
    },
    {
     "data": {
      "application/vnd.jupyter.widget-view+json": {
       "model_id": "",
       "version_major": 2,
       "version_minor": 0
      },
      "text/plain": [
       "  0%|          | 0/4 [00:00<?, ?it/s]"
      ]
     },
     "metadata": {},
     "output_type": "display_data"
    },
    {
     "name": "stderr",
     "output_type": "stream",
     "text": [
      "Global seed set to 42\n",
      "GPU available: True, used: True\n",
      "TPU available: False, using: 0 TPU cores\n",
      "IPU available: False, using: 0 IPUs\n"
     ]
    },
    {
     "data": {
      "application/vnd.jupyter.widget-view+json": {
       "model_id": "",
       "version_major": 2,
       "version_minor": 0
      },
      "text/plain": [
       "  0%|          | 0/4 [00:00<?, ?it/s]"
      ]
     },
     "metadata": {},
     "output_type": "display_data"
    },
    {
     "data": {
      "application/vnd.jupyter.widget-view+json": {
       "model_id": "",
       "version_major": 2,
       "version_minor": 0
      },
      "text/plain": [
       "  0%|          | 0/4 [00:00<?, ?it/s]"
      ]
     },
     "metadata": {},
     "output_type": "display_data"
    },
    {
     "data": {
      "application/vnd.jupyter.widget-view+json": {
       "model_id": "",
       "version_major": 2,
       "version_minor": 0
      },
      "text/plain": [
       "  0%|          | 0/4 [00:00<?, ?it/s]"
      ]
     },
     "metadata": {},
     "output_type": "display_data"
    },
    {
     "data": {
      "application/vnd.jupyter.widget-view+json": {
       "model_id": "",
       "version_major": 2,
       "version_minor": 0
      },
      "text/plain": [
       "  0%|          | 0/4 [00:00<?, ?it/s]"
      ]
     },
     "metadata": {},
     "output_type": "display_data"
    },
    {
     "name": "stderr",
     "output_type": "stream",
     "text": [
      "Global seed set to 42\n",
      "GPU available: True, used: True\n",
      "TPU available: False, using: 0 TPU cores\n",
      "IPU available: False, using: 0 IPUs\n"
     ]
    },
    {
     "data": {
      "application/vnd.jupyter.widget-view+json": {
       "model_id": "",
       "version_major": 2,
       "version_minor": 0
      },
      "text/plain": [
       "  0%|          | 0/4 [00:00<?, ?it/s]"
      ]
     },
     "metadata": {},
     "output_type": "display_data"
    },
    {
     "data": {
      "application/vnd.jupyter.widget-view+json": {
       "model_id": "",
       "version_major": 2,
       "version_minor": 0
      },
      "text/plain": [
       "  0%|          | 0/4 [00:00<?, ?it/s]"
      ]
     },
     "metadata": {},
     "output_type": "display_data"
    },
    {
     "data": {
      "application/vnd.jupyter.widget-view+json": {
       "model_id": "",
       "version_major": 2,
       "version_minor": 0
      },
      "text/plain": [
       "  0%|          | 0/4 [00:00<?, ?it/s]"
      ]
     },
     "metadata": {},
     "output_type": "display_data"
    },
    {
     "data": {
      "application/vnd.jupyter.widget-view+json": {
       "model_id": "",
       "version_major": 2,
       "version_minor": 0
      },
      "text/plain": [
       "  0%|          | 0/4 [00:00<?, ?it/s]"
      ]
     },
     "metadata": {},
     "output_type": "display_data"
    },
    {
     "name": "stderr",
     "output_type": "stream",
     "text": [
      "Global seed set to 42\n",
      "GPU available: True, used: True\n",
      "TPU available: False, using: 0 TPU cores\n",
      "IPU available: False, using: 0 IPUs\n"
     ]
    },
    {
     "data": {
      "application/vnd.jupyter.widget-view+json": {
       "model_id": "",
       "version_major": 2,
       "version_minor": 0
      },
      "text/plain": [
       "  0%|          | 0/4 [00:00<?, ?it/s]"
      ]
     },
     "metadata": {},
     "output_type": "display_data"
    },
    {
     "data": {
      "application/vnd.jupyter.widget-view+json": {
       "model_id": "",
       "version_major": 2,
       "version_minor": 0
      },
      "text/plain": [
       "  0%|          | 0/4 [00:00<?, ?it/s]"
      ]
     },
     "metadata": {},
     "output_type": "display_data"
    },
    {
     "data": {
      "application/vnd.jupyter.widget-view+json": {
       "model_id": "",
       "version_major": 2,
       "version_minor": 0
      },
      "text/plain": [
       "  0%|          | 0/4 [00:00<?, ?it/s]"
      ]
     },
     "metadata": {},
     "output_type": "display_data"
    },
    {
     "data": {
      "application/vnd.jupyter.widget-view+json": {
       "model_id": "",
       "version_major": 2,
       "version_minor": 0
      },
      "text/plain": [
       "  0%|          | 0/4 [00:00<?, ?it/s]"
      ]
     },
     "metadata": {},
     "output_type": "display_data"
    }
   ],
   "source": [
    "checkpoint_paths = [\n",
    "    '/network/scratch/o/oussama.boussif/pdeone/logs/experiments/nomeshgnn/runs/2022-05-07/18-37-20/checkpoints/epoch_225.ckpt',\n",
    "    '/network/scratch/o/oussama.boussif/pdeone/logs/experiments/nomeshgnn/runs/2022-05-07/18-37-20/checkpoints/epoch_236.ckpt',\n",
    "    '/network/scratch/o/oussama.boussif/pdeone/logs/experiments/nomeshgnn/runs/2022-05-07/18-43-26/checkpoints/epoch_237.ckpt',\n",
    "    '/network/scratch/o/oussama.boussif/pdeone/logs/experiments/nomeshgnn/runs/2022-05-07/18-55-33/checkpoints/epoch_237.ckpt',\n",
    "    '/network/scratch/o/oussama.boussif/pdeone/logs/experiments/nomeshgnn/runs/2022-05-07/18-58-28/checkpoints/epoch_237.ckpt'\n",
    "]\n",
    "\n",
    "nomeshgnn_results_all = []\n",
    "for checkpoint_path in checkpoint_paths:\n",
    "    # Model specific args\n",
    "    model = FACTORY[\"nomeshgnn\"]\n",
    "    seed_everything(42)\n",
    "\n",
    "    trainer = pl.Trainer(gpus=1)\n",
    "    model = model.load_from_checkpoint(checkpoint_path).to(device)\n",
    "    \n",
    "    nomeshgnn_results = []\n",
    "    nomeshgnn_outputs = []\n",
    "    for nx in [40,50,100,200]:\n",
    "        test_path = f'/home/mila/o/oussama.boussif/scratch/pdeone/data/CE_valid_E1_{nx}.h5'\n",
    "\n",
    "        test_dataset = HDF5DatasetImplicit( \n",
    "                        path=test_path,\n",
    "                        mode='valid',\n",
    "                        sampling='uniform',\n",
    "                        nt=250,\n",
    "                        nx=nx,\n",
    "                        samples=12)\n",
    "        dataloader = DataLoader(test_dataset, batch_size=32, num_workers=0, shuffle=False, pin_memory=True)\n",
    "        model.eval()\n",
    "        mae_loss = 0\n",
    "        with torch.no_grad():\n",
    "            for batch in tqdm(dataloader, leave=False):\n",
    "                t = batch['t'].float().to(device)\n",
    "                u = batch['lr_frames'].float().to(device) # B, T, 1, L\n",
    "                B, T, _, L = u.shape\n",
    "                u_values = batch['hr_points'].float().to(device)\n",
    "                coords = batch['coords'].float().to(device)\n",
    "                cells = batch['cells'].float().to(device)\n",
    "                B = t.shape[0]\n",
    "\n",
    "                u_values_future = u_values[:,model.time_slice:] # B, T_future, N, 1\n",
    "                T_future = u_values_future.shape[1]\n",
    "\n",
    "                u_values_hat = []\n",
    "                inp = u[:,:model.time_slice]\n",
    "                hr_last = u_values[:,model.time_slice-1]\n",
    "\n",
    "                for i in range(T_future//model.time_slice):\n",
    "                    y_hat, _, _ = model.forward(inp, coords, cells, t[:,i*model.time_slice:(i+2)*model.time_slice], hr_last)\n",
    "\n",
    "                    u_values_hat.append(y_hat)\n",
    "\n",
    "                    inp = y_hat.permute(0,1,3,2)\n",
    "                    inp = F.interpolate(inp.reshape(-1,inp.shape[-2], inp.shape[-1]), size=L, mode='linear', align_corners=False).reshape(B, -1, inp.shape[-2], L)\n",
    "                    hr_last = y_hat[:,-1]\n",
    "\n",
    "                u_values_hat = torch.cat(u_values_hat, dim=1)\n",
    "                loss = model.criterion(u_values_hat, u_values_future)\n",
    "                mae_loss += model.mae_criterion(u_values_hat, u_values_future)*B/len(test_dataset)\n",
    "        nomeshgnn_results.append(mae_loss.item())\n",
    "        nomeshgnn_outputs.append(u_values_hat[0].squeeze().cpu())\n",
    "    nomeshgnn_results_all.append(nomeshgnn_results)\n",
    "nomeshgnn_results_all = np.array(nomeshgnn_results_all)"
   ]
  },
  {
   "cell_type": "markdown",
   "metadata": {},
   "source": [
    "# MPNN"
   ]
  },
  {
   "cell_type": "code",
   "execution_count": 7,
   "metadata": {},
   "outputs": [
    {
     "name": "stderr",
     "output_type": "stream",
     "text": [
      "Global seed set to 42\n",
      "GPU available: True, used: True\n",
      "TPU available: False, using: 0 TPU cores\n",
      "IPU available: False, using: 0 IPUs\n"
     ]
    },
    {
     "data": {
      "application/vnd.jupyter.widget-view+json": {
       "model_id": "5c92b33ad001490b907aaf62e7386bb4",
       "version_major": 2,
       "version_minor": 0
      },
      "text/plain": [
       "  0%|          | 0/4 [00:00<?, ?it/s]"
      ]
     },
     "metadata": {},
     "output_type": "display_data"
    },
    {
     "data": {
      "application/vnd.jupyter.widget-view+json": {
       "model_id": "b9e9904f52e546c2a9e383d2b7118459",
       "version_major": 2,
       "version_minor": 0
      },
      "text/plain": [
       "  0%|          | 0/4 [00:00<?, ?it/s]"
      ]
     },
     "metadata": {},
     "output_type": "display_data"
    },
    {
     "data": {
      "application/vnd.jupyter.widget-view+json": {
       "model_id": "b0017176df204e4ea7007d0126fca258",
       "version_major": 2,
       "version_minor": 0
      },
      "text/plain": [
       "  0%|          | 0/4 [00:00<?, ?it/s]"
      ]
     },
     "metadata": {},
     "output_type": "display_data"
    },
    {
     "data": {
      "application/vnd.jupyter.widget-view+json": {
       "model_id": "671c455c1c1148abaa3e5baeed3c3038",
       "version_major": 2,
       "version_minor": 0
      },
      "text/plain": [
       "  0%|          | 0/4 [00:00<?, ?it/s]"
      ]
     },
     "metadata": {},
     "output_type": "display_data"
    },
    {
     "name": "stderr",
     "output_type": "stream",
     "text": [
      "Global seed set to 42\n",
      "GPU available: True, used: True\n",
      "TPU available: False, using: 0 TPU cores\n",
      "IPU available: False, using: 0 IPUs\n"
     ]
    },
    {
     "data": {
      "application/vnd.jupyter.widget-view+json": {
       "model_id": "a50983117a694d31add98d040ef37f91",
       "version_major": 2,
       "version_minor": 0
      },
      "text/plain": [
       "  0%|          | 0/4 [00:00<?, ?it/s]"
      ]
     },
     "metadata": {},
     "output_type": "display_data"
    },
    {
     "data": {
      "application/vnd.jupyter.widget-view+json": {
       "model_id": "4d772bf5c19e467d9d914b8dc696369a",
       "version_major": 2,
       "version_minor": 0
      },
      "text/plain": [
       "  0%|          | 0/4 [00:00<?, ?it/s]"
      ]
     },
     "metadata": {},
     "output_type": "display_data"
    },
    {
     "data": {
      "application/vnd.jupyter.widget-view+json": {
       "model_id": "36f3d42772994f42a8c652d97a89de83",
       "version_major": 2,
       "version_minor": 0
      },
      "text/plain": [
       "  0%|          | 0/4 [00:00<?, ?it/s]"
      ]
     },
     "metadata": {},
     "output_type": "display_data"
    },
    {
     "data": {
      "application/vnd.jupyter.widget-view+json": {
       "model_id": "315aec47101544bc950877a0fb1e09b0",
       "version_major": 2,
       "version_minor": 0
      },
      "text/plain": [
       "  0%|          | 0/4 [00:00<?, ?it/s]"
      ]
     },
     "metadata": {},
     "output_type": "display_data"
    },
    {
     "name": "stderr",
     "output_type": "stream",
     "text": [
      "Global seed set to 42\n",
      "GPU available: True, used: True\n",
      "TPU available: False, using: 0 TPU cores\n",
      "IPU available: False, using: 0 IPUs\n"
     ]
    },
    {
     "data": {
      "application/vnd.jupyter.widget-view+json": {
       "model_id": "9d486e4b0b3e4a9a80a3b36437c5d552",
       "version_major": 2,
       "version_minor": 0
      },
      "text/plain": [
       "  0%|          | 0/4 [00:00<?, ?it/s]"
      ]
     },
     "metadata": {},
     "output_type": "display_data"
    },
    {
     "data": {
      "application/vnd.jupyter.widget-view+json": {
       "model_id": "6ff43790e6954f96955d907531b077ba",
       "version_major": 2,
       "version_minor": 0
      },
      "text/plain": [
       "  0%|          | 0/4 [00:00<?, ?it/s]"
      ]
     },
     "metadata": {},
     "output_type": "display_data"
    },
    {
     "data": {
      "application/vnd.jupyter.widget-view+json": {
       "model_id": "afb288829be843bc9c9f37eedeca04ed",
       "version_major": 2,
       "version_minor": 0
      },
      "text/plain": [
       "  0%|          | 0/4 [00:00<?, ?it/s]"
      ]
     },
     "metadata": {},
     "output_type": "display_data"
    },
    {
     "data": {
      "application/vnd.jupyter.widget-view+json": {
       "model_id": "d3fd4e63b3ce4844a852a0e416ca6f96",
       "version_major": 2,
       "version_minor": 0
      },
      "text/plain": [
       "  0%|          | 0/4 [00:00<?, ?it/s]"
      ]
     },
     "metadata": {},
     "output_type": "display_data"
    },
    {
     "name": "stderr",
     "output_type": "stream",
     "text": [
      "Global seed set to 42\n",
      "GPU available: True, used: True\n",
      "TPU available: False, using: 0 TPU cores\n",
      "IPU available: False, using: 0 IPUs\n"
     ]
    },
    {
     "data": {
      "application/vnd.jupyter.widget-view+json": {
       "model_id": "a0f7b84410fa49df9ef38f094dc07886",
       "version_major": 2,
       "version_minor": 0
      },
      "text/plain": [
       "  0%|          | 0/4 [00:00<?, ?it/s]"
      ]
     },
     "metadata": {},
     "output_type": "display_data"
    },
    {
     "data": {
      "application/vnd.jupyter.widget-view+json": {
       "model_id": "0f5c98bc34e743e1bf1a7d849a7d20e7",
       "version_major": 2,
       "version_minor": 0
      },
      "text/plain": [
       "  0%|          | 0/4 [00:00<?, ?it/s]"
      ]
     },
     "metadata": {},
     "output_type": "display_data"
    },
    {
     "data": {
      "application/vnd.jupyter.widget-view+json": {
       "model_id": "7e258f0b53a147db9497b80e033fda30",
       "version_major": 2,
       "version_minor": 0
      },
      "text/plain": [
       "  0%|          | 0/4 [00:00<?, ?it/s]"
      ]
     },
     "metadata": {},
     "output_type": "display_data"
    },
    {
     "data": {
      "application/vnd.jupyter.widget-view+json": {
       "model_id": "9323cd8a208e45028136aa11c5121ce6",
       "version_major": 2,
       "version_minor": 0
      },
      "text/plain": [
       "  0%|          | 0/4 [00:00<?, ?it/s]"
      ]
     },
     "metadata": {},
     "output_type": "display_data"
    },
    {
     "name": "stderr",
     "output_type": "stream",
     "text": [
      "Global seed set to 42\n",
      "GPU available: True, used: True\n",
      "TPU available: False, using: 0 TPU cores\n",
      "IPU available: False, using: 0 IPUs\n"
     ]
    },
    {
     "data": {
      "application/vnd.jupyter.widget-view+json": {
       "model_id": "317b6618bbfc458c925fef04ef963a5f",
       "version_major": 2,
       "version_minor": 0
      },
      "text/plain": [
       "  0%|          | 0/4 [00:00<?, ?it/s]"
      ]
     },
     "metadata": {},
     "output_type": "display_data"
    },
    {
     "data": {
      "application/vnd.jupyter.widget-view+json": {
       "model_id": "abd61fde3c5c41a28c7ac6ea74651437",
       "version_major": 2,
       "version_minor": 0
      },
      "text/plain": [
       "  0%|          | 0/4 [00:00<?, ?it/s]"
      ]
     },
     "metadata": {},
     "output_type": "display_data"
    },
    {
     "data": {
      "application/vnd.jupyter.widget-view+json": {
       "model_id": "e0fc4c4d3e304e479c4cbf25aaa44d9b",
       "version_major": 2,
       "version_minor": 0
      },
      "text/plain": [
       "  0%|          | 0/4 [00:00<?, ?it/s]"
      ]
     },
     "metadata": {},
     "output_type": "display_data"
    },
    {
     "data": {
      "application/vnd.jupyter.widget-view+json": {
       "model_id": "c3be226a51a74e31880a2e694118fb19",
       "version_major": 2,
       "version_minor": 0
      },
      "text/plain": [
       "  0%|          | 0/4 [00:00<?, ?it/s]"
      ]
     },
     "metadata": {},
     "output_type": "display_data"
    }
   ],
   "source": [
    "checkpoint_paths = [\n",
    "    '/network/scratch/o/oussama.boussif/pdeone/logs/experiments/mpnn/runs/2022-05-04/18-03-22/checkpoints/epoch_248.ckpt',\n",
    "    '/network/scratch/o/oussama.boussif/pdeone/logs/experiments/mpnn/runs/2022-05-04/20-07-07/checkpoints/epoch_246.ckpt',\n",
    "    '/network/scratch/o/oussama.boussif/pdeone/logs/experiments/mpnn/runs/2022-05-04/20-13-10/checkpoints/epoch_248.ckpt',\n",
    "    '/network/scratch/o/oussama.boussif/pdeone/logs/experiments/mpnn/runs/2022-05-04/20-13-11/checkpoints/epoch_241.ckpt',\n",
    "    '/network/scratch/o/oussama.boussif/pdeone/logs/experiments/mpnn/runs/2022-05-04/20-13-13/checkpoints/epoch_242.ckpt'\n",
    "]\n",
    "mpnn_results_all = []\n",
    "for checkpoint_path in checkpoint_paths:\n",
    "    \n",
    "    # Model specific args\n",
    "    model = FACTORY[\"mpnn\"]\n",
    "    seed_everything(42)\n",
    "\n",
    "    trainer = pl.Trainer(gpus=1)\n",
    "    model = model.load_from_checkpoint(checkpoint_path).to(device)\n",
    "    mpnn_outputs = []\n",
    "    mpnn_results = []\n",
    "    for nx in [40,50,100,200]:\n",
    "        test_path = f'/home/mila/o/oussama.boussif/scratch/pdeone/data/CE_valid_E1_{nx}.h5'\n",
    "\n",
    "        test_dataset = HDF5DatasetGraph( \n",
    "                        path=test_path,\n",
    "                        mode='valid',\n",
    "                        nt=250,\n",
    "                        nx=nx,\n",
    "                        in_timesteps=25,\n",
    "                        radius=1)\n",
    "        dataloader = DataLoader(test_dataset, batch_size=32, num_workers=0, shuffle=False, pin_memory=True)\n",
    "        model.eval()\n",
    "        mae_loss = 0\n",
    "        with torch.no_grad():\n",
    "            for batch in tqdm(dataloader):\n",
    "                u = batch['u'].float().to(device)\n",
    "                x = batch['x'].float().to(device)\n",
    "                B, N, _ = x.shape\n",
    "                t = batch['t'].float().to(device)\n",
    "\n",
    "                node_features, edge_index, edge_features = model._build_graph(u[:,:,:model.time_slice], x, t[:,:model.time_slice])\n",
    "                target = u[:,:,model.time_slice:]\n",
    "                T_out = target.shape[-1]\n",
    "                u_hat = []\n",
    "                for i in range(T_out//model.time_slice):\n",
    "                    y_hat = model.forward(node_features, edge_index, edge_features)\n",
    "                    u_hat.append(y_hat)\n",
    "                    node_features = torch.cat([y_hat, x.reshape(B*N, -1), t[:, (i+2)*model.time_slice-1:(i+2)*model.time_slice].repeat(N, 1)], dim=-1)\n",
    "                    # inp = u_future[:,t*self.time_slice:(t+1)*self.time_slice]\n",
    "                    # inp = y_hat\n",
    "\n",
    "                u_hat = torch.cat(u_hat, dim=-1)\n",
    "                u_hat = u_hat.reshape(B, N, -1)\n",
    "\n",
    "                loss = model.criterion(u_hat, target)\n",
    "                mae_loss += model.mae_criterion(u_hat, target)*B/len(test_dataset)\n",
    "        mpnn_results.append(mae_loss.item())\n",
    "        mpnn_outputs.append(u_hat[0].squeeze().cpu())\n",
    "    mpnn_results_all.append(mpnn_results)\n",
    "mpnn_results_all = np.array(mpnn_results_all)"
   ]
  },
  {
   "cell_type": "markdown",
   "metadata": {},
   "source": [
    "# FNO"
   ]
  },
  {
   "cell_type": "code",
   "execution_count": 8,
   "metadata": {},
   "outputs": [
    {
     "name": "stderr",
     "output_type": "stream",
     "text": [
      "Global seed set to 42\n",
      "GPU available: True, used: True\n",
      "TPU available: False, using: 0 TPU cores\n",
      "IPU available: False, using: 0 IPUs\n"
     ]
    },
    {
     "data": {
      "application/vnd.jupyter.widget-view+json": {
       "model_id": "72e37db817424afc9e77fd8af79c496e",
       "version_major": 2,
       "version_minor": 0
      },
      "text/plain": [
       "  0%|          | 0/4 [00:00<?, ?it/s]"
      ]
     },
     "metadata": {},
     "output_type": "display_data"
    },
    {
     "data": {
      "application/vnd.jupyter.widget-view+json": {
       "model_id": "43c5387dff5c41bba0933eedd5205b7b",
       "version_major": 2,
       "version_minor": 0
      },
      "text/plain": [
       "  0%|          | 0/4 [00:00<?, ?it/s]"
      ]
     },
     "metadata": {},
     "output_type": "display_data"
    },
    {
     "data": {
      "application/vnd.jupyter.widget-view+json": {
       "model_id": "2cee72f156d74254baf0426023b3e8cf",
       "version_major": 2,
       "version_minor": 0
      },
      "text/plain": [
       "  0%|          | 0/4 [00:00<?, ?it/s]"
      ]
     },
     "metadata": {},
     "output_type": "display_data"
    },
    {
     "data": {
      "application/vnd.jupyter.widget-view+json": {
       "model_id": "d25b10f8657f4103a7402ab3ee3bd583",
       "version_major": 2,
       "version_minor": 0
      },
      "text/plain": [
       "  0%|          | 0/4 [00:00<?, ?it/s]"
      ]
     },
     "metadata": {},
     "output_type": "display_data"
    },
    {
     "name": "stderr",
     "output_type": "stream",
     "text": [
      "Global seed set to 42\n",
      "GPU available: True, used: True\n",
      "TPU available: False, using: 0 TPU cores\n",
      "IPU available: False, using: 0 IPUs\n"
     ]
    },
    {
     "data": {
      "application/vnd.jupyter.widget-view+json": {
       "model_id": "6e1926c121cf40b9b6b307863dea51bf",
       "version_major": 2,
       "version_minor": 0
      },
      "text/plain": [
       "  0%|          | 0/4 [00:00<?, ?it/s]"
      ]
     },
     "metadata": {},
     "output_type": "display_data"
    },
    {
     "data": {
      "application/vnd.jupyter.widget-view+json": {
       "model_id": "5e2327c36f8444c69617f26aec77fe59",
       "version_major": 2,
       "version_minor": 0
      },
      "text/plain": [
       "  0%|          | 0/4 [00:00<?, ?it/s]"
      ]
     },
     "metadata": {},
     "output_type": "display_data"
    },
    {
     "data": {
      "application/vnd.jupyter.widget-view+json": {
       "model_id": "f927ffc4974a4ab2b1d58af909133c54",
       "version_major": 2,
       "version_minor": 0
      },
      "text/plain": [
       "  0%|          | 0/4 [00:00<?, ?it/s]"
      ]
     },
     "metadata": {},
     "output_type": "display_data"
    },
    {
     "data": {
      "application/vnd.jupyter.widget-view+json": {
       "model_id": "34ea42eceff44f0e8c5e11c83dafc5ae",
       "version_major": 2,
       "version_minor": 0
      },
      "text/plain": [
       "  0%|          | 0/4 [00:00<?, ?it/s]"
      ]
     },
     "metadata": {},
     "output_type": "display_data"
    },
    {
     "name": "stderr",
     "output_type": "stream",
     "text": [
      "Global seed set to 42\n",
      "GPU available: True, used: True\n",
      "TPU available: False, using: 0 TPU cores\n",
      "IPU available: False, using: 0 IPUs\n"
     ]
    },
    {
     "data": {
      "application/vnd.jupyter.widget-view+json": {
       "model_id": "4cfc2645ca3a431c84e60853ce388172",
       "version_major": 2,
       "version_minor": 0
      },
      "text/plain": [
       "  0%|          | 0/4 [00:00<?, ?it/s]"
      ]
     },
     "metadata": {},
     "output_type": "display_data"
    },
    {
     "data": {
      "application/vnd.jupyter.widget-view+json": {
       "model_id": "b05bb2ab6ec8400ba06a5094ae1f0b39",
       "version_major": 2,
       "version_minor": 0
      },
      "text/plain": [
       "  0%|          | 0/4 [00:00<?, ?it/s]"
      ]
     },
     "metadata": {},
     "output_type": "display_data"
    },
    {
     "data": {
      "application/vnd.jupyter.widget-view+json": {
       "model_id": "7eb306866faa406f965eb79bfb3011aa",
       "version_major": 2,
       "version_minor": 0
      },
      "text/plain": [
       "  0%|          | 0/4 [00:00<?, ?it/s]"
      ]
     },
     "metadata": {},
     "output_type": "display_data"
    },
    {
     "data": {
      "application/vnd.jupyter.widget-view+json": {
       "model_id": "dd655ff657da473ea44784584bdb8733",
       "version_major": 2,
       "version_minor": 0
      },
      "text/plain": [
       "  0%|          | 0/4 [00:00<?, ?it/s]"
      ]
     },
     "metadata": {},
     "output_type": "display_data"
    },
    {
     "name": "stderr",
     "output_type": "stream",
     "text": [
      "Global seed set to 42\n",
      "GPU available: True, used: True\n",
      "TPU available: False, using: 0 TPU cores\n",
      "IPU available: False, using: 0 IPUs\n"
     ]
    },
    {
     "data": {
      "application/vnd.jupyter.widget-view+json": {
       "model_id": "d76916115a9f4619bc81dec151b92f0e",
       "version_major": 2,
       "version_minor": 0
      },
      "text/plain": [
       "  0%|          | 0/4 [00:00<?, ?it/s]"
      ]
     },
     "metadata": {},
     "output_type": "display_data"
    },
    {
     "data": {
      "application/vnd.jupyter.widget-view+json": {
       "model_id": "c0775a8a38574991b70c8c5413129832",
       "version_major": 2,
       "version_minor": 0
      },
      "text/plain": [
       "  0%|          | 0/4 [00:00<?, ?it/s]"
      ]
     },
     "metadata": {},
     "output_type": "display_data"
    },
    {
     "data": {
      "application/vnd.jupyter.widget-view+json": {
       "model_id": "cc0a2e4c44624a57a585defdec0965c7",
       "version_major": 2,
       "version_minor": 0
      },
      "text/plain": [
       "  0%|          | 0/4 [00:00<?, ?it/s]"
      ]
     },
     "metadata": {},
     "output_type": "display_data"
    },
    {
     "data": {
      "application/vnd.jupyter.widget-view+json": {
       "model_id": "71d698df08d54cf3b702a7c584bd125c",
       "version_major": 2,
       "version_minor": 0
      },
      "text/plain": [
       "  0%|          | 0/4 [00:00<?, ?it/s]"
      ]
     },
     "metadata": {},
     "output_type": "display_data"
    },
    {
     "name": "stderr",
     "output_type": "stream",
     "text": [
      "Global seed set to 42\n",
      "GPU available: True, used: True\n",
      "TPU available: False, using: 0 TPU cores\n",
      "IPU available: False, using: 0 IPUs\n"
     ]
    },
    {
     "data": {
      "application/vnd.jupyter.widget-view+json": {
       "model_id": "3b1f75978c1345fea67bf3a6d693e91a",
       "version_major": 2,
       "version_minor": 0
      },
      "text/plain": [
       "  0%|          | 0/4 [00:00<?, ?it/s]"
      ]
     },
     "metadata": {},
     "output_type": "display_data"
    },
    {
     "data": {
      "application/vnd.jupyter.widget-view+json": {
       "model_id": "1cdfc5c2fb824fb7b60861306760c12b",
       "version_major": 2,
       "version_minor": 0
      },
      "text/plain": [
       "  0%|          | 0/4 [00:00<?, ?it/s]"
      ]
     },
     "metadata": {},
     "output_type": "display_data"
    },
    {
     "data": {
      "application/vnd.jupyter.widget-view+json": {
       "model_id": "9d5e2141f085457da4d4000de8fd6ffe",
       "version_major": 2,
       "version_minor": 0
      },
      "text/plain": [
       "  0%|          | 0/4 [00:00<?, ?it/s]"
      ]
     },
     "metadata": {},
     "output_type": "display_data"
    },
    {
     "data": {
      "application/vnd.jupyter.widget-view+json": {
       "model_id": "e1607749100d44119ac531854faf1033",
       "version_major": 2,
       "version_minor": 0
      },
      "text/plain": [
       "  0%|          | 0/4 [00:00<?, ?it/s]"
      ]
     },
     "metadata": {},
     "output_type": "display_data"
    }
   ],
   "source": [
    "checkpoint_paths = [\n",
    "    '/network/scratch/o/oussama.boussif/pdeone/logs/experiments/fno_1d/runs/2022-05-04/13-32-38/checkpoints/epoch_244.ckpt',\n",
    "    '/network/scratch/o/oussama.boussif/pdeone/logs/experiments/fno_1d/runs/2022-05-04/13-32-41/checkpoints/epoch_055.ckpt',\n",
    "    '/network/scratch/o/oussama.boussif/pdeone/logs/experiments/fno_1d/runs/2022-05-04/13-32-39/checkpoints/epoch_244.ckpt',\n",
    "    '/network/scratch/o/oussama.boussif/pdeone/logs/experiments/fno_1d/runs/2022-05-04/13-35-41/checkpoints/epoch_143.ckpt',\n",
    "    '/network/scratch/o/oussama.boussif/pdeone/logs/experiments/fno_1d/runs/2022-05-04/13-35-38/checkpoints/epoch_229.ckpt'\n",
    "]\n",
    "\n",
    "fno_results_all = []\n",
    "for checkpoint_path in checkpoint_paths:\n",
    "    # Model specific args\n",
    "    model = FACTORY[\"fno_1d\"]\n",
    "    seed_everything(42)\n",
    "\n",
    "    trainer = pl.Trainer(gpus=1)\n",
    "    model = model.load_from_checkpoint(checkpoint_path).to(device)\n",
    "\n",
    "    fno_results = []\n",
    "    fno_outputs = []\n",
    "\n",
    "    for nx in [40,50,100,200]:\n",
    "        test_path = f'/home/mila/o/oussama.boussif/scratch/pdeone/data/CE_valid_E1_{nx}.h5'\n",
    "\n",
    "        test_dataset = HDF5Dataset( \n",
    "                        path=test_path,\n",
    "                        mode='valid',\n",
    "                        nt=250,\n",
    "                        nx=nx)\n",
    "        dataloader = DataLoader(test_dataset, batch_size=32, num_workers=0, shuffle=False, pin_memory=True)\n",
    "        model.eval()\n",
    "        mae_loss = 0\n",
    "        with torch.no_grad():\n",
    "            for batch in tqdm(dataloader):\n",
    "                u, dx, dt = batch\n",
    "                u = u.float().to(device)\n",
    "                dx = dx.float().to(device)\n",
    "                dt = dt.float().to(device)\n",
    "\n",
    "                L = u.shape[-1]\n",
    "\n",
    "                u_history = u[:,:model.time_history] # B, T_history, L\n",
    "                u_future = u[:,model.time_history:] # B, T_future, L\n",
    "                T_future = u_future.shape[1]\n",
    "\n",
    "                u_hat = []\n",
    "                inp = u_history\n",
    "                for t in range(T_future//model.time_future):\n",
    "                    y_hat = model.forward(inp.permute(0,2,1), dx, dt).permute(0,2,1)\n",
    "                    u_hat.append(y_hat)\n",
    "                    inp = y_hat\n",
    "\n",
    "                u_hat = torch.cat(u_hat, dim=1)\n",
    "\n",
    "                loss = model.criterion(u_hat, u_future)\n",
    "                mae_loss += model.mae_criterion(u_hat, u_future)*B/len(test_dataset)\n",
    "        fno_results.append(mae_loss.item())\n",
    "        fno_outputs.append(u_hat[0].squeeze().cpu())\n",
    "    fno_results_all.append(fno_results)\n",
    "fno_results_all = np.array(fno_results_all)"
   ]
  },
  {
   "cell_type": "markdown",
   "metadata": {},
   "source": [
    "# Figure"
   ]
  },
  {
   "cell_type": "code",
   "execution_count": 12,
   "metadata": {},
   "outputs": [
    {
     "data": {
      "image/png": "[encoded data removed]",
      "text/plain": [
       "<Figure size 720x504 with 1 Axes>"
      ]
     },
     "metadata": {
      "needs_background": "light"
     },
     "output_type": "display_data"
    }
   ],
   "source": [
    "fig, ax = plt.subplots(1,1,figsize=(10,7))\n",
    "\n",
    "ax.errorbar([40,50,100,200], fno_results_all.mean(0), yerr=fno_results_all.std(0), marker='o', label='FNO')\n",
    "ax.errorbar([40,50,100,200], mpnn_results_all.mean(0), yerr=mpnn_results_all.std(0), marker='o', label='MPNN')\n",
    "ax.errorbar([40,50,100,200], nomeshgnn_results_all.mean(0), yerr=nomeshgnn_results_all.std(0), marker='o', label='MAgNet[CNN]')\n",
    "\n",
    "ax.set_xlabel('Test resolutions')\n",
    "ax.set_ylabel('MAE')\n",
    "ax.grid()\n",
    "ax.legend()\n",
    "\n",
    "plt.show()"
   ]
  },
  {
   "cell_type": "code",
   "execution_count": null,
   "metadata": {},
   "outputs": [],
   "source": []
  }
 ],
 "metadata": {
  "kernelspec": {
   "display_name": "nomesh",
   "language": "python",
   "name": "nomesh"
  },
  "language_info": {
   "codemirror_mode": {
    "name": "ipython",
    "version": 3
   },
   "file_extension": ".py",
   "mimetype": "text/x-python",
   "name": "python",
   "nbconvert_exporter": "python",
   "pygments_lexer": "ipython3",
   "version": "3.8.12"
  }
 },
 "nbformat": 4,
 "nbformat_minor": 2
}
